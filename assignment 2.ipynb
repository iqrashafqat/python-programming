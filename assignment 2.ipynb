{
 "cells": [
  {
   "cell_type": "code",
   "execution_count": 1,
   "metadata": {},
   "outputs": [
    {
     "name": "stdout",
     "output_type": "stream",
     "text": [
      "enter number5\n",
      "odd\n"
     ]
    }
   ],
   "source": [
    "#QUESTION 2: EVEN OR ODD\n",
    "\n",
    "x=int(input(\"enter number\"))\n",
    "if x%2==0:\n",
    "    print(\"even\")\n",
    "else:\n",
    "    print(\"odd\")"
   ]
  },
  {
   "cell_type": "code",
   "execution_count": 2,
   "metadata": {},
   "outputs": [
    {
     "name": "stdout",
     "output_type": "stream",
     "text": [
      "length of list: 6\n"
     ]
    }
   ],
   "source": [
    "# QUESTION 3: LENGTH OF LIST\n",
    "x=[1,2,3,4,5,6]\n",
    "l=0\n",
    "for y in x:\n",
    "    l=l+1\n",
    "print(\"length of list: \" + str(l))"
   ]
  },
  {
   "cell_type": "code",
   "execution_count": 3,
   "metadata": {},
   "outputs": [
    {
     "name": "stdout",
     "output_type": "stream",
     "text": [
      "enter marks 1: 50\n",
      "enter marks 2: 60\n",
      "enter marks 3: 70\n",
      "enter marks 4: 80\n",
      "enter marks 5: 90\n",
      "total :70.0\n",
      "Grade: B\n"
     ]
    }
   ],
   "source": [
    "#QUESTION 1: MARKSHEET AND GRADE\n",
    "x1=int(input(\"enter marks 1: \"))\n",
    "x2=int(input(\"enter marks 2: \"))\n",
    "x3=int(input(\"enter marks 3: \"))\n",
    "x4=int(input(\"enter marks 4: \"))\n",
    "x5=int(input(\"enter marks 5: \"))\n",
    "\n",
    "total=(x1+x2+x3+x4+x5)/5\n",
    "print(\"total :\"+ str(total))\n",
    "\n",
    "if(total >= 40 and total < 50):\n",
    "    print(\"Grade: F\")\n",
    "elif(total >= 50 and total < 60):\n",
    "    print(\"Grade: D\")\n",
    "elif(total >= 60 and total < 70):\n",
    "    print(\"Grade: C\")\n",
    "elif(total >= 70 and total < 80):\n",
    "    print(\"Grade: B\")\n",
    "elif(total >= 80 and total < 90):\n",
    "    print(\"Grade: A\")\n",
    "elif(total >= 90 and total < 100):\n",
    "    print(\"Grade: A-One\")\n",
    "    \n"
   ]
  },
  {
   "cell_type": "code",
   "execution_count": 4,
   "metadata": {},
   "outputs": [
    {
     "name": "stdout",
     "output_type": "stream",
     "text": [
      "90\n"
     ]
    }
   ],
   "source": [
    "#QUESTION 4: Sum of list \n",
    "import numpy as np\n",
    "\n",
    "list1=[3,4,5,63,2,4,7,2]\n",
    "\n",
    "array=np.array(list1)\n",
    "\n",
    "y=0\n",
    "\n",
    "for x in array:\n",
    "    y=y+x\n",
    "    \n",
    "print(y)\n",
    "    "
   ]
  },
  {
   "cell_type": "code",
   "execution_count": 5,
   "metadata": {},
   "outputs": [
    {
     "name": "stdout",
     "output_type": "stream",
     "text": [
      "1\n",
      "1\n",
      "2\n",
      "3\n"
     ]
    }
   ],
   "source": [
    "#QUESTION 6: Elements less than 5\n",
    "a = [1, 1, 2, 3, 5, 8, 13, 21, 34, 55, 89]\n",
    "for x in a:\n",
    "    if(x<5):\n",
    "        print(x)"
   ]
  },
  {
   "cell_type": "code",
   "execution_count": 12,
   "metadata": {},
   "outputs": [
    {
     "name": "stdout",
     "output_type": "stream",
     "text": [
      "9\n"
     ]
    }
   ],
   "source": [
    "#QUESTION 5: Largest number in a list\n",
    "import numpy as np\n",
    "\n",
    "x=[1,4,7,8,4,6,2,9,6,2,7,6]\n",
    "\n",
    "array1=np.array(x)\n",
    "\n",
    "y=0\n",
    "z=0\n",
    "\n",
    "for y in array1:\n",
    "    if z<y:\n",
    "        z=y\n",
    "    \n",
    "print(z)\n"
   ]
  }
 ],
 "metadata": {
  "kernelspec": {
   "display_name": "Python 3",
   "language": "python",
   "name": "python3"
  },
  "language_info": {
   "codemirror_mode": {
    "name": "ipython",
    "version": 3
   },
   "file_extension": ".py",
   "mimetype": "text/x-python",
   "name": "python",
   "nbconvert_exporter": "python",
   "pygments_lexer": "ipython3",
   "version": "3.7.3"
  }
 },
 "nbformat": 4,
 "nbformat_minor": 2
}
