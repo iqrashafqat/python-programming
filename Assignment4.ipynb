{
 "cells": [
  {
   "cell_type": "code",
   "execution_count": 1,
   "metadata": {},
   "outputs": [
    {
     "name": "stdout",
     "output_type": "stream",
     "text": [
      "The Google's CEO first name is Sundar\n",
      "The Google's CEO last name is Pichai\n",
      "The Google's CEO age is 47\n",
      "The Google's CEO city is Chennai\n",
      "The Google's CEO qualifications is B.Tech,MS and MBA\n",
      "Dictionary After deleting key:  {'first name': 'Sundar', 'last name': 'Pichai', 'age': '47', 'city': 'Chennai'}\n"
     ]
    }
   ],
   "source": [
    "information = {\"first name\":\"Sundar\",\"last name\":\"Pichai\",\"age\":\"47\",\"city\":\"Chennai\"}\n",
    "information.update({\"qualifications\":\"B.Tech,MS and MBA\"})\n",
    "for each_key, each_value in information.items():\n",
    "    print(\"The Google's CEO \" + each_key + \" is \" + each_value)\n",
    "del information[\"qualifications\"]\n",
    "print(\"Dictionary After deleting key: \",information)"
   ]
  },
  {
   "cell_type": "code",
   "execution_count": 2,
   "metadata": {},
   "outputs": [
    {
     "name": "stdout",
     "output_type": "stream",
     "text": [
      "some information about Karachi is \n",
      "{'country': 'Pakistan', 'population': '14.91 million', 'fact': 'It is the Sixth largest city in the world by city population'}\n",
      "\n",
      "some information about Lahore is \n",
      "{'country': 'Pakistan', 'population': '11.13 million', 'fact': 'It has the largest and fastest growing retail industries after Karachi'}\n",
      "\n",
      "some information about Islamabad is \n",
      "{'country': 'Pakistan', 'population': '1.015 million', 'fact': 'It is the capital of Pakistan'}\n"
     ]
    }
   ],
   "source": [
    "cities = {\"city1\":\"Karachi\",\"city2\":\"Lahore\",\"city3\":\"Islamabad\"}\n",
    "information_city1 = {\"country\":\"Pakistan\",\"population\":\"14.91 million\",\"fact\":\"It is the Sixth largest city in the world by city population\"}\n",
    "information_city2 = {\"country\":\"Pakistan\",\"population\":\"11.13 million\",\"fact\":\"It has the largest and fastest growing retail industries after Karachi\"}\n",
    "information_city3 = {\"country\":\"Pakistan\",\"population\":\"1.015 million\",\"fact\":\"It is the capital of Pakistan\"}\n",
    "print(\"some information about \" + \"Karachi\" + \" is \")\n",
    "print(information_city1)\n",
    "print(\"\\nsome information about \" + \"Lahore\" + \" is \")\n",
    "print(information_city2)\n",
    "print(\"\\nsome information about \" + \"Islamabad\" + \" is \")\n",
    "print(information_city3)"
   ]
  },
  {
   "cell_type": "code",
   "execution_count": 3,
   "metadata": {},
   "outputs": [
    {
     "name": "stdout",
     "output_type": "stream",
     "text": [
      "Please enter your age.\n",
      "18\n",
      "Your ticket price is 15$.\n",
      "\n",
      " If you would like to check the price for another person please enter their age now or type 'quit' to exit\n",
      "Please enter your age.\n",
      "1\n",
      "Your ticket price is free.\n",
      "\n",
      " If you would like to check the price for another person please enter their age now or type 'quit' to exit\n",
      "Please enter your age.\n",
      "13\n",
      "Your ticket price is 15$.\n",
      "\n",
      " If you would like to check the price for another person please enter their age now or type 'quit' to exit\n",
      "Please enter your age.\n",
      "quit\n"
     ]
    }
   ],
   "source": [
    "loop = True\n",
    "while loop:\n",
    "    print ('Please enter your age.')\n",
    "    age = input()\n",
    "    if age == 'quit':\n",
    "        break\n",
    "    age = int(age)\n",
    "    if age < 3:\n",
    "        price = \"free\"\n",
    "    elif age < 12:\n",
    "        price = \"10$\"\n",
    "    elif age > 12:\n",
    "        price = \"15$\"\n",
    "    else:\n",
    "        print(\"Input not recognized\")\n",
    "        break\n",
    "    print(\"Your ticket price is \" + str(price) + '.')\n",
    "    print(\"\\n If you would like to check the price for another person please enter their age now or type 'quit' to exit\")"
   ]
  },
  {
   "cell_type": "code",
   "execution_count": 4,
   "metadata": {},
   "outputs": [
    {
     "name": "stdout",
     "output_type": "stream",
     "text": [
      "One of my favorite books is Alice in Wonderland.\n"
     ]
    }
   ],
   "source": [
    "def favorite_book(title):\n",
    "       print(\"One of my favorite books is \" + title + \".\")\n",
    "favorite_book('Alice in Wonderland')"
   ]
  },
  {
   "cell_type": "code",
   "execution_count": 5,
   "metadata": {},
   "outputs": [
    {
     "name": "stdout",
     "output_type": "stream",
     "text": [
      "10\n",
      "Your guess is low\n",
      "15\n",
      "Your guess is high\n",
      "11\n",
      "Excellent,Your guess is right\n",
      "My guess was 11\n"
     ]
    }
   ],
   "source": [
    " import random\n",
    "guessesTaken = 0    \n",
    "number = random.randint(1, 30) \n",
    "while guessesTaken < 3:\n",
    "    guess = input()\n",
    "    guess = int(guess)\n",
    "    guessesTaken = guessesTaken + 1\n",
    "    if guess<number:\n",
    "        print(\"Your guess is low\")\n",
    "    if guess>number:\n",
    "        print(\"Your guess is high\")\n",
    "    if guess==number:\n",
    "        print(\"Excellent,Your guess is right\")\n",
    "    if guess==number:\n",
    "        break\n",
    "number = str(number)    \n",
    "print('My guess was ' + number )  "
   ]
  },
  {
   "cell_type": "code",
   "execution_count": null,
   "metadata": {},
   "outputs": [],
   "source": []
  }
 ],
 "metadata": {
  "kernelspec": {
   "display_name": "Python 3",
   "language": "python",
   "name": "python3"
  },
  "language_info": {
   "codemirror_mode": {
    "name": "ipython",
    "version": 3
   },
   "file_extension": ".py",
   "mimetype": "text/x-python",
   "name": "python",
   "nbconvert_exporter": "python",
   "pygments_lexer": "ipython3",
   "version": "3.7.4"
  }
 },
 "nbformat": 4,
 "nbformat_minor": 2
}
