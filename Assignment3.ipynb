{
 "cells": [
  {
   "cell_type": "code",
   "execution_count": 6,
   "metadata": {},
   "outputs": [
    {
     "name": "stdout",
     "output_type": "stream",
     "text": [
      "Enter your first number: 100\n",
      "Enter your second number: 50\n",
      "Select any operation\n",
      "1.Addition\n",
      "2.Subtraction\n",
      "3.Multplication\n",
      "4.Division\n",
      "5.Power4\n",
      "Result =  2.0\n"
     ]
    }
   ],
   "source": [
    "num1 = int(input('Enter your first number: '))\n",
    "num2 = int(input('Enter your second number: '))\n",
    "operation = int(input(\"Select any operation\\n1.Addition\\n2.Subtraction\\n3.Multplication\\n4.Division\\n5.Power\"))\n",
    "if operation == 1:\n",
    "    \tres1 = num1 + num2;\n",
    "    \tprint(\"Result = \", res1);\n",
    "elif operation == 2:\n",
    "    \tres2 = num1 - num2;\n",
    "    \tprint(\"Result = \", res2);        \n",
    "elif operation == 3:\n",
    "    \tres3 = num1 * num2;\n",
    "    \tprint(\"Result = \", res3);\n",
    "elif operation == 4:\n",
    "    \tres4 = num1/num2;\n",
    "    \tprint(\"Result = \", res4);\n",
    "elif operation == 5:\n",
    "    \tres5 = num1**num2;\n",
    "    \tprint(\"Result = \", res5);        \n",
    "else:\n",
    "     print(\"wrong command\")        "
   ]
  },
  {
   "cell_type": "code",
   "execution_count": 8,
   "metadata": {},
   "outputs": [
    {
     "name": "stdout",
     "output_type": "stream",
     "text": [
      "Its not a numeric value\n",
      "Its a numeric value\n",
      "Its a numeric value\n",
      "Its a numeric value\n",
      "Its a numeric value\n",
      "Its a numeric value\n",
      "Its not a numeric value\n",
      "Its not a numeric value\n",
      "Its a numeric value\n"
     ]
    }
   ],
   "source": [
    "list_1 = ['p',1.1,5.0,1,2,3,'f','g',0]\n",
    "for num in list_1 :\n",
    "    if type(num) ==int:\n",
    "        print(\"Its a numeric value\")\n",
    "    elif type(num) ==float:\n",
    "        print(\"Its a numeric value\")\n",
    "    else:\n",
    "        print(\"Its not a numeric value\")"
   ]
  },
  {
   "cell_type": "code",
   "execution_count": 6,
   "metadata": {},
   "outputs": [
    {
     "name": "stdout",
     "output_type": "stream",
     "text": [
      "{1: 30, 5: 60}\n",
      "{1: 30, 5: 60, 2: 40}\n"
     ]
    }
   ],
   "source": [
    "d = {1:30, 5:60}  \n",
    "print(d)  \n",
    "d.update({2:40})  \n",
    "print(d)"
   ]
  },
  {
   "cell_type": "code",
   "execution_count": 10,
   "metadata": {},
   "outputs": [
    {
     "name": "stdout",
     "output_type": "stream",
     "text": [
      "85\n"
     ]
    }
   ],
   "source": [
    "a = {'a1':10, 'a2':20, 'a3':5, 'a4':50}\n",
    "print(sum(a.values()))"
   ]
  },
  {
   "cell_type": "code",
   "execution_count": 18,
   "metadata": {},
   "outputs": [
    {
     "name": "stdout",
     "output_type": "stream",
     "text": [
      "These are the values which are repeated in the list [20, 30]\n"
     ]
    }
   ],
   "source": [
    "def Repeat(x): \n",
    "    size = len(x) \n",
    "    repeated = [] \n",
    "    for i in range(size): \n",
    "        k = i + 1\n",
    "        for j in range(k, size): \n",
    "            if x[i] == x[j] and x[i] not in repeated: \n",
    "                repeated.append(x[i]) \n",
    "    return repeated\n",
    "\n",
    "t = [10, 20, 30, 20, 20, 30, 40,90,12,0]\n",
    "print(\"These are the values which are repeated in the list\", Repeat(list1) )"
   ]
  },
  {
   "cell_type": "code",
   "execution_count": 27,
   "metadata": {},
   "outputs": [
    {
     "name": "stdout",
     "output_type": "stream",
     "text": [
      "Present,  value = 100\n",
      "Present,  value = 200\n",
      "Not present\n"
     ]
    }
   ],
   "source": [
    "def checkKey(dict, key): \n",
    "      \n",
    "    if key in dict.keys(): \n",
    "        print(\"Present, \", end =\" \") \n",
    "        print(\"value =\", dict[key]) \n",
    "    else: \n",
    "        print(\"Not present\") \n",
    "dict = {'a': 100, 'b':200, 'c':300} \n",
    "  \n",
    "key = 'a'\n",
    "checkKey(dict, key) \n",
    "  \n",
    "key = 'b'\n",
    "checkKey(dict, key) \n",
    "\n",
    "key = 'm'\n",
    "checkKey(dict, key)"
   ]
  },
  {
   "cell_type": "code",
   "execution_count": null,
   "metadata": {},
   "outputs": [],
   "source": []
  }
 ],
 "metadata": {
  "kernelspec": {
   "display_name": "Python 3",
   "language": "python",
   "name": "python3"
  },
  "language_info": {
   "codemirror_mode": {
    "name": "ipython",
    "version": 3
   },
   "file_extension": ".py",
   "mimetype": "text/x-python",
   "name": "python",
   "nbconvert_exporter": "python",
   "pygments_lexer": "ipython3",
   "version": "3.7.4"
  }
 },
 "nbformat": 4,
 "nbformat_minor": 2
}
